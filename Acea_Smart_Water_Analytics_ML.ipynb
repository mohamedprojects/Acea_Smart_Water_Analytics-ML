{
 "cells": [
  {
   "cell_type": "code",
   "execution_count": 1,
   "id": "26c92b1a",
   "metadata": {
    "_cell_guid": "b1076dfc-b9ad-4769-8c92-a6c4dae69d19",
    "_uuid": "8f2839f25d086af736a60e9eeb907d3b93b6e0e5",
    "execution": {
     "iopub.execute_input": "2022-03-12T09:36:43.263841Z",
     "iopub.status.busy": "2022-03-12T09:36:43.262645Z",
     "iopub.status.idle": "2022-03-12T09:36:44.315162Z",
     "shell.execute_reply": "2022-03-12T09:36:44.315992Z",
     "shell.execute_reply.started": "2022-03-12T09:35:30.899046Z"
    },
    "papermill": {
     "duration": 1.086731,
     "end_time": "2022-03-12T09:36:44.316382",
     "exception": false,
     "start_time": "2022-03-12T09:36:43.229651",
     "status": "completed"
    },
    "tags": []
   },
   "outputs": [
    {
     "name": "stdout",
     "output_type": "stream",
     "text": [
      "/kaggle/input/acea-water-prediction/Aquifer_Doganella.csv\n",
      "/kaggle/input/acea-water-prediction/Aquifer_Auser.csv\n",
      "/kaggle/input/acea-water-prediction/Water_Spring_Amiata.csv\n",
      "/kaggle/input/acea-water-prediction/datasets_description.ods\n",
      "/kaggle/input/acea-water-prediction/Lake_Bilancino.csv\n",
      "/kaggle/input/acea-water-prediction/datasets_description.xlsx\n",
      "/kaggle/input/acea-water-prediction/Water_Spring_Madonna_di_Canneto.csv\n",
      "/kaggle/input/acea-water-prediction/Aquifer_Luco.csv\n",
      "/kaggle/input/acea-water-prediction/Aquifer_Petrignano.csv\n",
      "/kaggle/input/acea-water-prediction/Water_Spring_Lupa.csv\n",
      "/kaggle/input/acea-water-prediction/River_Arno.csv\n"
     ]
    }
   ],
   "source": [
    "# This Python 3 environment comes with many helpful analytics libraries installed\n",
    "# It is defined by the kaggle/python Docker image: https://github.com/kaggle/docker-python\n",
    "# For example, here's several helpful packages to load\n",
    "\n",
    "import numpy as np # linear algebra\n",
    "import pandas as pd # data processing, CSV file I/O (e.g. pd.read_csv)\n",
    "import seaborn as sns\n",
    "\n",
    "\n",
    "# Input data files are available in the read-only \"../input/\" directory\n",
    "# For example, running this (by clicking run or pressing Shift+Enter) will list all files under the input directory\n",
    "\n",
    "import os\n",
    "for dirname, _, filenames in os.walk('/kaggle/input'):\n",
    "    for filename in filenames:\n",
    "        print(os.path.join(dirname, filename))\n",
    "\n",
    "# You can write up to 20GB to the current directory (/kaggle/working/) that gets preserved as output when you create a version using \"Save & Run All\" \n",
    "# You can also write temporary files to /kaggle/temp/, but they won't be saved outside of the current session"
   ]
  },
  {
   "cell_type": "code",
   "execution_count": 2,
   "id": "699b6167",
   "metadata": {
    "execution": {
     "iopub.execute_input": "2022-03-12T09:36:44.378954Z",
     "iopub.status.busy": "2022-03-12T09:36:44.378278Z",
     "iopub.status.idle": "2022-03-12T09:36:44.435816Z",
     "shell.execute_reply": "2022-03-12T09:36:44.436320Z",
     "shell.execute_reply.started": "2022-03-12T09:35:31.458252Z"
    },
    "papermill": {
     "duration": 0.089929,
     "end_time": "2022-03-12T09:36:44.436504",
     "exception": false,
     "start_time": "2022-03-12T09:36:44.346575",
     "status": "completed"
    },
    "tags": []
   },
   "outputs": [
    {
     "name": "stdout",
     "output_type": "stream",
     "text": [
      "<class 'pandas.core.frame.DataFrame'>\n",
      "RangeIndex: 6603 entries, 0 to 6602\n",
      "Data columns (total 9 columns):\n",
      " #   Column                Non-Null Count  Dtype  \n",
      "---  ------                --------------  -----  \n",
      " 0   Date                  6603 non-null   object \n",
      " 1   Rainfall_S_Piero      6026 non-null   float64\n",
      " 2   Rainfall_Mangona      6026 non-null   float64\n",
      " 3   Rainfall_S_Agata      6026 non-null   float64\n",
      " 4   Rainfall_Cavallina    6026 non-null   float64\n",
      " 5   Rainfall_Le_Croci     6026 non-null   float64\n",
      " 6   Temperature_Le_Croci  6025 non-null   float64\n",
      " 7   Lake_Level            6603 non-null   float64\n",
      " 8   Flow_Rate             6582 non-null   float64\n",
      "dtypes: float64(8), object(1)\n",
      "memory usage: 464.4+ KB\n"
     ]
    }
   ],
   "source": [
    "#Dowloading the data\n",
    "df = pd.read_csv('../input/acea-water-prediction/Lake_Bilancino.csv')\n",
    "df.info()"
   ]
  },
  {
   "cell_type": "code",
   "execution_count": 3,
   "id": "afb5dbab",
   "metadata": {
    "execution": {
     "iopub.execute_input": "2022-03-12T09:36:44.499773Z",
     "iopub.status.busy": "2022-03-12T09:36:44.499133Z",
     "iopub.status.idle": "2022-03-12T09:36:44.520643Z",
     "shell.execute_reply": "2022-03-12T09:36:44.521158Z",
     "shell.execute_reply.started": "2022-03-12T09:35:31.492973Z"
    },
    "papermill": {
     "duration": 0.054691,
     "end_time": "2022-03-12T09:36:44.521328",
     "exception": false,
     "start_time": "2022-03-12T09:36:44.466637",
     "status": "completed"
    },
    "tags": []
   },
   "outputs": [
    {
     "data": {
      "text/html": [
       "<div>\n",
       "<style scoped>\n",
       "    .dataframe tbody tr th:only-of-type {\n",
       "        vertical-align: middle;\n",
       "    }\n",
       "\n",
       "    .dataframe tbody tr th {\n",
       "        vertical-align: top;\n",
       "    }\n",
       "\n",
       "    .dataframe thead th {\n",
       "        text-align: right;\n",
       "    }\n",
       "</style>\n",
       "<table border=\"1\" class=\"dataframe\">\n",
       "  <thead>\n",
       "    <tr style=\"text-align: right;\">\n",
       "      <th></th>\n",
       "      <th>Date</th>\n",
       "      <th>Rainfall_S_Piero</th>\n",
       "      <th>Rainfall_Mangona</th>\n",
       "      <th>Rainfall_S_Agata</th>\n",
       "      <th>Rainfall_Cavallina</th>\n",
       "      <th>Rainfall_Le_Croci</th>\n",
       "      <th>Temperature_Le_Croci</th>\n",
       "      <th>Lake_Level</th>\n",
       "      <th>Flow_Rate</th>\n",
       "    </tr>\n",
       "  </thead>\n",
       "  <tbody>\n",
       "    <tr>\n",
       "      <th>0</th>\n",
       "      <td>03/06/2002</td>\n",
       "      <td>NaN</td>\n",
       "      <td>NaN</td>\n",
       "      <td>NaN</td>\n",
       "      <td>NaN</td>\n",
       "      <td>NaN</td>\n",
       "      <td>NaN</td>\n",
       "      <td>249.43</td>\n",
       "      <td>0.31</td>\n",
       "    </tr>\n",
       "    <tr>\n",
       "      <th>1</th>\n",
       "      <td>04/06/2002</td>\n",
       "      <td>NaN</td>\n",
       "      <td>NaN</td>\n",
       "      <td>NaN</td>\n",
       "      <td>NaN</td>\n",
       "      <td>NaN</td>\n",
       "      <td>NaN</td>\n",
       "      <td>249.43</td>\n",
       "      <td>0.31</td>\n",
       "    </tr>\n",
       "    <tr>\n",
       "      <th>2</th>\n",
       "      <td>05/06/2002</td>\n",
       "      <td>NaN</td>\n",
       "      <td>NaN</td>\n",
       "      <td>NaN</td>\n",
       "      <td>NaN</td>\n",
       "      <td>NaN</td>\n",
       "      <td>NaN</td>\n",
       "      <td>249.43</td>\n",
       "      <td>0.31</td>\n",
       "    </tr>\n",
       "    <tr>\n",
       "      <th>3</th>\n",
       "      <td>06/06/2002</td>\n",
       "      <td>NaN</td>\n",
       "      <td>NaN</td>\n",
       "      <td>NaN</td>\n",
       "      <td>NaN</td>\n",
       "      <td>NaN</td>\n",
       "      <td>NaN</td>\n",
       "      <td>249.43</td>\n",
       "      <td>0.31</td>\n",
       "    </tr>\n",
       "    <tr>\n",
       "      <th>4</th>\n",
       "      <td>07/06/2002</td>\n",
       "      <td>NaN</td>\n",
       "      <td>NaN</td>\n",
       "      <td>NaN</td>\n",
       "      <td>NaN</td>\n",
       "      <td>NaN</td>\n",
       "      <td>NaN</td>\n",
       "      <td>249.44</td>\n",
       "      <td>0.31</td>\n",
       "    </tr>\n",
       "  </tbody>\n",
       "</table>\n",
       "</div>"
      ],
      "text/plain": [
       "         Date  Rainfall_S_Piero  Rainfall_Mangona  Rainfall_S_Agata  \\\n",
       "0  03/06/2002               NaN               NaN               NaN   \n",
       "1  04/06/2002               NaN               NaN               NaN   \n",
       "2  05/06/2002               NaN               NaN               NaN   \n",
       "3  06/06/2002               NaN               NaN               NaN   \n",
       "4  07/06/2002               NaN               NaN               NaN   \n",
       "\n",
       "   Rainfall_Cavallina  Rainfall_Le_Croci  Temperature_Le_Croci  Lake_Level  \\\n",
       "0                 NaN                NaN                   NaN      249.43   \n",
       "1                 NaN                NaN                   NaN      249.43   \n",
       "2                 NaN                NaN                   NaN      249.43   \n",
       "3                 NaN                NaN                   NaN      249.43   \n",
       "4                 NaN                NaN                   NaN      249.44   \n",
       "\n",
       "   Flow_Rate  \n",
       "0       0.31  \n",
       "1       0.31  \n",
       "2       0.31  \n",
       "3       0.31  \n",
       "4       0.31  "
      ]
     },
     "execution_count": 3,
     "metadata": {},
     "output_type": "execute_result"
    }
   ],
   "source": [
    "df.head()"
   ]
  },
  {
   "cell_type": "code",
   "execution_count": 4,
   "id": "c4734b96",
   "metadata": {
    "execution": {
     "iopub.execute_input": "2022-03-12T09:36:44.587048Z",
     "iopub.status.busy": "2022-03-12T09:36:44.586042Z",
     "iopub.status.idle": "2022-03-12T09:36:44.596258Z",
     "shell.execute_reply": "2022-03-12T09:36:44.596765Z",
     "shell.execute_reply.started": "2022-03-12T09:35:31.514306Z"
    },
    "papermill": {
     "duration": 0.044894,
     "end_time": "2022-03-12T09:36:44.596983",
     "exception": false,
     "start_time": "2022-03-12T09:36:44.552089",
     "status": "completed"
    },
    "tags": []
   },
   "outputs": [
    {
     "data": {
      "text/plain": [
       "array([  nan,   0. ,   0.8,   5.8,   1.6,   2.6,   0.2,  13. ,  11.4,\n",
       "        49.6,  40.2,   2.2,   6.8,   1.8,   0.6,   8.2,   1.4,  11.6,\n",
       "        21.4,  26. ,  27.4,  29.2,   3.4,  14.8,   2.4,  13.2,   4.6,\n",
       "        13.8,   7.4,   4.4,  14.4,   0.4,  11. ,   8. ,   1. ,  12.6,\n",
       "         3.6,  19.4,   4.2,  10.6,   3.8,  46.6,  28.4,   8.8,  23.2,\n",
       "         7. ,   7.2,   1.2,  12. ,  16. ,   5.6,  20.2,   5.2,  23.4,\n",
       "        28.8,  29.6,   7.6,   6. ,  22.2,  46.2,   5. ,  21.2,  11.8,\n",
       "         4.8,   5.4,  24.8,  16.2,  44.4,  12.4,   2. ,   9. ,  39.2,\n",
       "        15.6,  33.2,   8.6,  23.6,  21.8,  10.2,  18. ,  48.6,  15.4,\n",
       "         6.4,   9.2,  17.2,  11.2,  22.4,  26.2,  14.6,   9.6,  24.4,\n",
       "        42.4,  20.6,  36.4,  41.8,  47.4,  16.4,  24. ,  14. ,   9.8,\n",
       "        20. ,  18.2,  30.4,  21.6,  23.8,   3.2,  15.8,  29.8,  25.6,\n",
       "         6.6,   4. ,   3. ,  15. ,  30.8,   6.2,  19.8,   2.8,  10.4,\n",
       "       108.6,  20.8,  37. ,  59.4,  14.2,  10.8,  32.6,  34.4,  17.6,\n",
       "        16.8,  70.6,  17. ,   9.4,  36.6,  10. ,   7.8,  30.6,  12.2,\n",
       "        17.8,   8.4,  39.6,  47.2,  27.2,  22.8,  36. ,  24.6,  32.2,\n",
       "        35.6,  28.6,  47.6,  43. ,  13.4,  25.4,  59.6,  62.8,  12.8,\n",
       "        40.8,  44.2,  19.2,  36.2,  19.6,  74.6,  20.4,  25.2,  19. ,\n",
       "        18.8,  26.8,  43.6,  29. ,  17.4,  90.6,  37.2,  69.4,  45.6,\n",
       "        13.6,  18.4,  21. ,  32. ,  38.6,  24.2,  31.2,  33.6,  22. ,\n",
       "        43.2,  26.6,  30. ,  31.4,  39. ,  61.8,  41.2,  34.2,  29.4,\n",
       "        47. ,  27.8,  52. ,  34.6,  47.8,  32.8,  33. ,  22.6,  39.8,\n",
       "        37.8,  34.8,  31.6,  48.4,  57.2,  45.8,  38. ,  44.6,  43.8,\n",
       "       110. ,  53.6,  34. ,  27. ,  51.4,  54.2,  95.4,  86. ,  56.4,\n",
       "        62. ,  16.6,  26.4,  25.8,  76.4,  54.8,  46. ,  23. ,  32.4,\n",
       "        33.8, 102.8,  76.6,  44.8,  31.8,  57.8,  39.4,  58.6,  86.6,\n",
       "        68.8,  54.6,  15.2,  55.8,  38.4,  55.2,  35. ,  40.4,  59.8,\n",
       "        28.2,  28. ,  43.4,  58.4,  36.8])"
      ]
     },
     "execution_count": 4,
     "metadata": {},
     "output_type": "execute_result"
    }
   ],
   "source": [
    "df['Rainfall_Mangona'].unique()"
   ]
  },
  {
   "cell_type": "code",
   "execution_count": 5,
   "id": "d95f143b",
   "metadata": {
    "execution": {
     "iopub.execute_input": "2022-03-12T09:36:44.664683Z",
     "iopub.status.busy": "2022-03-12T09:36:44.664012Z",
     "iopub.status.idle": "2022-03-12T09:36:44.699247Z",
     "shell.execute_reply": "2022-03-12T09:36:44.699735Z",
     "shell.execute_reply.started": "2022-03-12T09:35:31.526841Z"
    },
    "papermill": {
     "duration": 0.071626,
     "end_time": "2022-03-12T09:36:44.699931",
     "exception": false,
     "start_time": "2022-03-12T09:36:44.628305",
     "status": "completed"
    },
    "tags": []
   },
   "outputs": [
    {
     "data": {
      "text/html": [
       "<div>\n",
       "<style scoped>\n",
       "    .dataframe tbody tr th:only-of-type {\n",
       "        vertical-align: middle;\n",
       "    }\n",
       "\n",
       "    .dataframe tbody tr th {\n",
       "        vertical-align: top;\n",
       "    }\n",
       "\n",
       "    .dataframe thead th {\n",
       "        text-align: right;\n",
       "    }\n",
       "</style>\n",
       "<table border=\"1\" class=\"dataframe\">\n",
       "  <thead>\n",
       "    <tr style=\"text-align: right;\">\n",
       "      <th></th>\n",
       "      <th>Rainfall_S_Piero</th>\n",
       "      <th>Rainfall_Mangona</th>\n",
       "      <th>Rainfall_S_Agata</th>\n",
       "      <th>Rainfall_Cavallina</th>\n",
       "      <th>Rainfall_Le_Croci</th>\n",
       "      <th>Temperature_Le_Croci</th>\n",
       "      <th>Lake_Level</th>\n",
       "      <th>Flow_Rate</th>\n",
       "    </tr>\n",
       "  </thead>\n",
       "  <tbody>\n",
       "    <tr>\n",
       "      <th>count</th>\n",
       "      <td>6026.000000</td>\n",
       "      <td>6026.000000</td>\n",
       "      <td>6026.000000</td>\n",
       "      <td>6026.000000</td>\n",
       "      <td>6026.000000</td>\n",
       "      <td>6025.000000</td>\n",
       "      <td>6603.000000</td>\n",
       "      <td>6582.000000</td>\n",
       "    </tr>\n",
       "    <tr>\n",
       "      <th>mean</th>\n",
       "      <td>2.471225</td>\n",
       "      <td>3.340657</td>\n",
       "      <td>2.670063</td>\n",
       "      <td>2.674743</td>\n",
       "      <td>3.129871</td>\n",
       "      <td>14.530141</td>\n",
       "      <td>249.564091</td>\n",
       "      <td>2.760968</td>\n",
       "    </tr>\n",
       "    <tr>\n",
       "      <th>std</th>\n",
       "      <td>6.650012</td>\n",
       "      <td>8.903134</td>\n",
       "      <td>7.166643</td>\n",
       "      <td>7.655847</td>\n",
       "      <td>8.025121</td>\n",
       "      <td>6.944029</td>\n",
       "      <td>2.172558</td>\n",
       "      <td>4.073428</td>\n",
       "    </tr>\n",
       "    <tr>\n",
       "      <th>min</th>\n",
       "      <td>0.000000</td>\n",
       "      <td>0.000000</td>\n",
       "      <td>0.000000</td>\n",
       "      <td>0.000000</td>\n",
       "      <td>0.000000</td>\n",
       "      <td>-5.350000</td>\n",
       "      <td>243.530000</td>\n",
       "      <td>0.310000</td>\n",
       "    </tr>\n",
       "    <tr>\n",
       "      <th>25%</th>\n",
       "      <td>0.000000</td>\n",
       "      <td>0.000000</td>\n",
       "      <td>0.000000</td>\n",
       "      <td>0.000000</td>\n",
       "      <td>0.000000</td>\n",
       "      <td>9.000000</td>\n",
       "      <td>248.000000</td>\n",
       "      <td>0.600000</td>\n",
       "    </tr>\n",
       "    <tr>\n",
       "      <th>50%</th>\n",
       "      <td>0.000000</td>\n",
       "      <td>0.000000</td>\n",
       "      <td>0.000000</td>\n",
       "      <td>0.000000</td>\n",
       "      <td>0.000000</td>\n",
       "      <td>14.500000</td>\n",
       "      <td>250.200000</td>\n",
       "      <td>1.500000</td>\n",
       "    </tr>\n",
       "    <tr>\n",
       "      <th>75%</th>\n",
       "      <td>0.800000</td>\n",
       "      <td>1.400000</td>\n",
       "      <td>1.200000</td>\n",
       "      <td>0.600000</td>\n",
       "      <td>1.200000</td>\n",
       "      <td>20.100000</td>\n",
       "      <td>251.400000</td>\n",
       "      <td>3.000000</td>\n",
       "    </tr>\n",
       "    <tr>\n",
       "      <th>max</th>\n",
       "      <td>80.600000</td>\n",
       "      <td>110.000000</td>\n",
       "      <td>120.200000</td>\n",
       "      <td>113.600000</td>\n",
       "      <td>88.400000</td>\n",
       "      <td>34.000000</td>\n",
       "      <td>252.760000</td>\n",
       "      <td>74.650000</td>\n",
       "    </tr>\n",
       "  </tbody>\n",
       "</table>\n",
       "</div>"
      ],
      "text/plain": [
       "       Rainfall_S_Piero  Rainfall_Mangona  Rainfall_S_Agata  \\\n",
       "count       6026.000000       6026.000000       6026.000000   \n",
       "mean           2.471225          3.340657          2.670063   \n",
       "std            6.650012          8.903134          7.166643   \n",
       "min            0.000000          0.000000          0.000000   \n",
       "25%            0.000000          0.000000          0.000000   \n",
       "50%            0.000000          0.000000          0.000000   \n",
       "75%            0.800000          1.400000          1.200000   \n",
       "max           80.600000        110.000000        120.200000   \n",
       "\n",
       "       Rainfall_Cavallina  Rainfall_Le_Croci  Temperature_Le_Croci  \\\n",
       "count         6026.000000        6026.000000           6025.000000   \n",
       "mean             2.674743           3.129871             14.530141   \n",
       "std              7.655847           8.025121              6.944029   \n",
       "min              0.000000           0.000000             -5.350000   \n",
       "25%              0.000000           0.000000              9.000000   \n",
       "50%              0.000000           0.000000             14.500000   \n",
       "75%              0.600000           1.200000             20.100000   \n",
       "max            113.600000          88.400000             34.000000   \n",
       "\n",
       "        Lake_Level    Flow_Rate  \n",
       "count  6603.000000  6582.000000  \n",
       "mean    249.564091     2.760968  \n",
       "std       2.172558     4.073428  \n",
       "min     243.530000     0.310000  \n",
       "25%     248.000000     0.600000  \n",
       "50%     250.200000     1.500000  \n",
       "75%     251.400000     3.000000  \n",
       "max     252.760000    74.650000  "
      ]
     },
     "execution_count": 5,
     "metadata": {},
     "output_type": "execute_result"
    }
   ],
   "source": [
    "df.describe()"
   ]
  },
  {
   "cell_type": "markdown",
   "id": "598d477b",
   "metadata": {
    "papermill": {
     "duration": 0.031651,
     "end_time": "2022-03-12T09:36:44.764246",
     "exception": false,
     "start_time": "2022-03-12T09:36:44.732595",
     "status": "completed"
    },
    "tags": []
   },
   "source": [
    "# Data visualization"
   ]
  },
  {
   "cell_type": "code",
   "execution_count": 6,
   "id": "6071d2f7",
   "metadata": {
    "execution": {
     "iopub.execute_input": "2022-03-12T09:36:44.831939Z",
     "iopub.status.busy": "2022-03-12T09:36:44.831020Z",
     "iopub.status.idle": "2022-03-12T09:36:46.246311Z",
     "shell.execute_reply": "2022-03-12T09:36:46.245708Z",
     "shell.execute_reply.started": "2022-03-12T09:35:31.577864Z"
    },
    "papermill": {
     "duration": 1.451025,
     "end_time": "2022-03-12T09:36:46.246452",
     "exception": false,
     "start_time": "2022-03-12T09:36:44.795427",
     "status": "completed"
    },
    "tags": []
   },
   "outputs": [
    {
     "data": {
      "text/plain": [
       "array([[<AxesSubplot:title={'center':'Rainfall_S_Piero'}>,\n",
       "        <AxesSubplot:title={'center':'Rainfall_Mangona'}>,\n",
       "        <AxesSubplot:title={'center':'Rainfall_S_Agata'}>],\n",
       "       [<AxesSubplot:title={'center':'Rainfall_Cavallina'}>,\n",
       "        <AxesSubplot:title={'center':'Rainfall_Le_Croci'}>,\n",
       "        <AxesSubplot:title={'center':'Temperature_Le_Croci'}>],\n",
       "       [<AxesSubplot:title={'center':'Lake_Level'}>,\n",
       "        <AxesSubplot:title={'center':'Flow_Rate'}>, <AxesSubplot:>]],\n",
       "      dtype=object)"
      ]
     },
     "execution_count": 6,
     "metadata": {},
     "output_type": "execute_result"
    },
    {
     "data": {
      "image/png": "[encoded data removed]",
      "text/plain": [
       "<Figure size 1440x1080 with 9 Axes>"
      ]
     },
     "metadata": {
      "needs_background": "light"
     },
     "output_type": "display_data"
    }
   ],
   "source": [
    "# plotting histograms of different features\n",
    "df.hist(figsize=(20,15))"
   ]
  },
  {
   "cell_type": "code",
   "execution_count": 7,
   "id": "f586dcd8",
   "metadata": {
    "execution": {
     "iopub.execute_input": "2022-03-12T09:36:46.320694Z",
     "iopub.status.busy": "2022-03-12T09:36:46.319171Z",
     "iopub.status.idle": "2022-03-12T09:36:46.620973Z",
     "shell.execute_reply": "2022-03-12T09:36:46.620403Z",
     "shell.execute_reply.started": "2022-03-12T09:35:33.014452Z"
    },
    "papermill": {
     "duration": 0.341448,
     "end_time": "2022-03-12T09:36:46.621127",
     "exception": false,
     "start_time": "2022-03-12T09:36:46.279679",
     "status": "completed"
    },
    "tags": []
   },
   "outputs": [
    {
     "data": {
      "text/plain": [
       "<AxesSubplot:>"
      ]
     },
     "execution_count": 7,
     "metadata": {},
     "output_type": "execute_result"
    },
    {
     "data": {
      "image/png": "[encoded data removed]",
      "text/plain": [
       "<Figure size 432x288 with 2 Axes>"
      ]
     },
     "metadata": {
      "needs_background": "light"
     },
     "output_type": "display_data"
    }
   ],
   "source": [
    "sns.heatmap(df.corr('spearman').abs()[['Lake_Level']].sort_values('Lake_Level'))"
   ]
  },
  {
   "cell_type": "code",
   "execution_count": 8,
   "id": "ceac458a",
   "metadata": {
    "execution": {
     "iopub.execute_input": "2022-03-12T09:36:46.710380Z",
     "iopub.status.busy": "2022-03-12T09:36:46.709645Z",
     "iopub.status.idle": "2022-03-12T09:36:46.725047Z",
     "shell.execute_reply": "2022-03-12T09:36:46.725762Z",
     "shell.execute_reply.started": "2022-03-12T09:35:33.329713Z"
    },
    "papermill": {
     "duration": 0.069546,
     "end_time": "2022-03-12T09:36:46.726008",
     "exception": false,
     "start_time": "2022-03-12T09:36:46.656462",
     "status": "completed"
    },
    "tags": []
   },
   "outputs": [
    {
     "name": "stdout",
     "output_type": "stream",
     "text": [
      "<class 'pandas.core.frame.DataFrame'>\n",
      "RangeIndex: 6603 entries, 0 to 6602\n",
      "Data columns (total 11 columns):\n",
      " #   Column                Non-Null Count  Dtype         \n",
      "---  ------                --------------  -----         \n",
      " 0   Date                  6603 non-null   datetime64[ns]\n",
      " 1   Rainfall_S_Piero      6026 non-null   float64       \n",
      " 2   Rainfall_Mangona      6026 non-null   float64       \n",
      " 3   Rainfall_S_Agata      6026 non-null   float64       \n",
      " 4   Rainfall_Cavallina    6026 non-null   float64       \n",
      " 5   Rainfall_Le_Croci     6026 non-null   float64       \n",
      " 6   Temperature_Le_Croci  6025 non-null   float64       \n",
      " 7   Lake_Level            6603 non-null   float64       \n",
      " 8   Flow_Rate             6582 non-null   float64       \n",
      " 9   Year                  6603 non-null   int64         \n",
      " 10  Month                 6603 non-null   int64         \n",
      "dtypes: datetime64[ns](1), float64(8), int64(2)\n",
      "memory usage: 567.6 KB\n"
     ]
    }
   ],
   "source": [
    "df['Date']= pd.to_datetime(df['Date'])\n",
    "df['Year']= df['Date'].dt.year\n",
    "df['Month']=df['Date'].dt.month\n",
    "df.info()"
   ]
  },
  {
   "cell_type": "code",
   "execution_count": 9,
   "id": "4caf8fc4",
   "metadata": {
    "execution": {
     "iopub.execute_input": "2022-03-12T09:36:46.805541Z",
     "iopub.status.busy": "2022-03-12T09:36:46.804438Z",
     "iopub.status.idle": "2022-03-12T09:36:47.843252Z",
     "shell.execute_reply": "2022-03-12T09:36:47.843738Z",
     "shell.execute_reply.started": "2022-03-12T09:35:33.363133Z"
    },
    "papermill": {
     "duration": 1.080265,
     "end_time": "2022-03-12T09:36:47.843940",
     "exception": false,
     "start_time": "2022-03-12T09:36:46.763675",
     "status": "completed"
    },
    "tags": []
   },
   "outputs": [
    {
     "data": {
      "text/plain": [
       "<AxesSubplot:xlabel='Year', ylabel='Temperature_Le_Croci'>"
      ]
     },
     "execution_count": 9,
     "metadata": {},
     "output_type": "execute_result"
    },
    {
     "data": {
      "image/png": "[encoded data removed]",
      "text/plain": [
       "<Figure size 432x288 with 1 Axes>"
      ]
     },
     "metadata": {},
     "output_type": "display_data"
    }
   ],
   "source": [
    "# plotting the Temperature Le Croci over the years\n",
    "sns.set_theme(style=\"darkgrid\")\n",
    "\n",
    "sns.lineplot(x=\"Year\", y=\"Temperature_Le_Croci\",data=df)"
   ]
  },
  {
   "cell_type": "code",
   "execution_count": 10,
   "id": "ed56b17f",
   "metadata": {
    "execution": {
     "iopub.execute_input": "2022-03-12T09:36:47.927344Z",
     "iopub.status.busy": "2022-03-12T09:36:47.926271Z",
     "iopub.status.idle": "2022-03-12T09:36:48.897520Z",
     "shell.execute_reply": "2022-03-12T09:36:48.896952Z",
     "shell.execute_reply.started": "2022-03-12T09:35:34.440906Z"
    },
    "papermill": {
     "duration": 1.01704,
     "end_time": "2022-03-12T09:36:48.897684",
     "exception": false,
     "start_time": "2022-03-12T09:36:47.880644",
     "status": "completed"
    },
    "tags": []
   },
   "outputs": [
    {
     "data": {
      "text/plain": [
       "<AxesSubplot:xlabel='Year', ylabel='Lake_Level'>"
      ]
     },
     "execution_count": 10,
     "metadata": {},
     "output_type": "execute_result"
    },
    {
     "data": {
      "image/png": "[encoded data removed]",
      "text/plain": [
       "<Figure size 432x288 with 1 Axes>"
      ]
     },
     "metadata": {},
     "output_type": "display_data"
    }
   ],
   "source": [
    "#plotting the lake level over the years\n",
    "sns.set_theme(style=\"darkgrid\")\n",
    "\n",
    "sns.lineplot(x=\"Year\", y=\"Lake_Level\",data=df)"
   ]
  },
  {
   "cell_type": "code",
   "execution_count": 11,
   "id": "18b8a6a2",
   "metadata": {
    "execution": {
     "iopub.execute_input": "2022-03-12T09:36:48.979917Z",
     "iopub.status.busy": "2022-03-12T09:36:48.979219Z",
     "iopub.status.idle": "2022-03-12T09:36:49.945707Z",
     "shell.execute_reply": "2022-03-12T09:36:49.946277Z",
     "shell.execute_reply.started": "2022-03-12T09:35:35.442382Z"
    },
    "papermill": {
     "duration": 1.009855,
     "end_time": "2022-03-12T09:36:49.946462",
     "exception": false,
     "start_time": "2022-03-12T09:36:48.936607",
     "status": "completed"
    },
    "tags": []
   },
   "outputs": [
    {
     "data": {
      "text/plain": [
       "<AxesSubplot:xlabel='Year', ylabel='Flow_Rate'>"
      ]
     },
     "execution_count": 11,
     "metadata": {},
     "output_type": "execute_result"
    },
    {
     "data": {
      "image/png": "[encoded data removed]",
      "text/plain": [
       "<Figure size 432x288 with 1 Axes>"
      ]
     },
     "metadata": {},
     "output_type": "display_data"
    }
   ],
   "source": [
    "# plotting the flow rate over the years\n",
    "\n",
    "sns.set_theme(style=\"darkgrid\")\n",
    "sns.lineplot(x='Year', y='Flow_Rate',data=df)"
   ]
  },
  {
   "cell_type": "code",
   "execution_count": 12,
   "id": "5dd4242b",
   "metadata": {
    "execution": {
     "iopub.execute_input": "2022-03-12T09:36:50.032150Z",
     "iopub.status.busy": "2022-03-12T09:36:50.031473Z",
     "iopub.status.idle": "2022-03-12T09:36:50.049422Z",
     "shell.execute_reply": "2022-03-12T09:36:50.049907Z",
     "shell.execute_reply.started": "2022-03-12T09:35:36.422494Z"
    },
    "papermill": {
     "duration": 0.062518,
     "end_time": "2022-03-12T09:36:50.050126",
     "exception": false,
     "start_time": "2022-03-12T09:36:49.987608",
     "status": "completed"
    },
    "tags": []
   },
   "outputs": [
    {
     "data": {
      "text/html": [
       "<div>\n",
       "<style scoped>\n",
       "    .dataframe tbody tr th:only-of-type {\n",
       "        vertical-align: middle;\n",
       "    }\n",
       "\n",
       "    .dataframe tbody tr th {\n",
       "        vertical-align: top;\n",
       "    }\n",
       "\n",
       "    .dataframe thead th {\n",
       "        text-align: right;\n",
       "    }\n",
       "</style>\n",
       "<table border=\"1\" class=\"dataframe\">\n",
       "  <thead>\n",
       "    <tr style=\"text-align: right;\">\n",
       "      <th></th>\n",
       "      <th>Year</th>\n",
       "      <th>Rainfall_S_Piero</th>\n",
       "      <th>Rainfall_Mangona</th>\n",
       "      <th>Rainfall_S_Agata</th>\n",
       "      <th>Rainfall_Cavallina</th>\n",
       "      <th>Rainfall_Le_Croci</th>\n",
       "    </tr>\n",
       "  </thead>\n",
       "  <tbody>\n",
       "    <tr>\n",
       "      <th>0</th>\n",
       "      <td>2002</td>\n",
       "      <td>NaN</td>\n",
       "      <td>NaN</td>\n",
       "      <td>NaN</td>\n",
       "      <td>NaN</td>\n",
       "      <td>NaN</td>\n",
       "    </tr>\n",
       "    <tr>\n",
       "      <th>1</th>\n",
       "      <td>2003</td>\n",
       "      <td>NaN</td>\n",
       "      <td>NaN</td>\n",
       "      <td>NaN</td>\n",
       "      <td>NaN</td>\n",
       "      <td>NaN</td>\n",
       "    </tr>\n",
       "    <tr>\n",
       "      <th>2</th>\n",
       "      <td>2004</td>\n",
       "      <td>2.387432</td>\n",
       "      <td>3.387432</td>\n",
       "      <td>2.214208</td>\n",
       "      <td>2.915301</td>\n",
       "      <td>3.053005</td>\n",
       "    </tr>\n",
       "  </tbody>\n",
       "</table>\n",
       "</div>"
      ],
      "text/plain": [
       "   Year  Rainfall_S_Piero  Rainfall_Mangona  Rainfall_S_Agata  \\\n",
       "0  2002               NaN               NaN               NaN   \n",
       "1  2003               NaN               NaN               NaN   \n",
       "2  2004          2.387432          3.387432          2.214208   \n",
       "\n",
       "   Rainfall_Cavallina  Rainfall_Le_Croci  \n",
       "0                 NaN                NaN  \n",
       "1                 NaN                NaN  \n",
       "2            2.915301           3.053005  "
      ]
     },
     "execution_count": 12,
     "metadata": {},
     "output_type": "execute_result"
    }
   ],
   "source": [
    "df_rain = df.groupby(['Year'])[['Rainfall_S_Piero','Rainfall_Mangona','Rainfall_S_Agata','Rainfall_Cavallina','Rainfall_Le_Croci']].mean().reset_index()\n",
    "df_rain.head(3)"
   ]
  },
  {
   "cell_type": "code",
   "execution_count": 13,
   "id": "d80fc9c5",
   "metadata": {
    "execution": {
     "iopub.execute_input": "2022-03-12T09:36:50.163444Z",
     "iopub.status.busy": "2022-03-12T09:36:50.136893Z",
     "iopub.status.idle": "2022-03-12T09:36:50.536464Z",
     "shell.execute_reply": "2022-03-12T09:36:50.536984Z",
     "shell.execute_reply.started": "2022-03-12T09:35:36.439856Z"
    },
    "papermill": {
     "duration": 0.444778,
     "end_time": "2022-03-12T09:36:50.537157",
     "exception": false,
     "start_time": "2022-03-12T09:36:50.092379",
     "status": "completed"
    },
    "tags": []
   },
   "outputs": [
    {
     "data": {
      "text/plain": [
       "<Figure size 1440x1080 with 0 Axes>"
      ]
     },
     "execution_count": 13,
     "metadata": {},
     "output_type": "execute_result"
    },
    {
     "data": {
      "image/png": "[encoded data removed]",
      "text/plain": [
       "<Figure size 432x288 with 1 Axes>"
      ]
     },
     "metadata": {},
     "output_type": "display_data"
    },
    {
     "data": {
      "text/plain": [
       "<Figure size 1440x1080 with 0 Axes>"
      ]
     },
     "metadata": {},
     "output_type": "display_data"
    }
   ],
   "source": [
    "# plotting the rain pattern over the years\n",
    "import matplotlib.pyplot as plt\n",
    "plt.plot('Year', 'Rainfall_S_Piero', data = df_rain, color='blue' )\n",
    "plt.plot('Year', 'Rainfall_Mangona', data = df_rain, color='orange' )\n",
    "plt.plot('Year', 'Rainfall_S_Agata', data = df_rain, color='yellow' )\n",
    "plt.plot('Year', 'Rainfall_Cavallina', data = df_rain, color='olive' )\n",
    "plt.plot('Year', 'Rainfall_Le_Croci', data = df_rain, color='red' )\n",
    "plt.legend()\n",
    "plt.figure(figsize=(20,15))"
   ]
  },
  {
   "cell_type": "code",
   "execution_count": 14,
   "id": "c16404c7",
   "metadata": {
    "execution": {
     "iopub.execute_input": "2022-03-12T09:36:50.629162Z",
     "iopub.status.busy": "2022-03-12T09:36:50.628384Z",
     "iopub.status.idle": "2022-03-12T09:36:50.643669Z",
     "shell.execute_reply": "2022-03-12T09:36:50.643167Z",
     "shell.execute_reply.started": "2022-03-12T09:35:36.848690Z"
    },
    "papermill": {
     "duration": 0.062764,
     "end_time": "2022-03-12T09:36:50.643838",
     "exception": false,
     "start_time": "2022-03-12T09:36:50.581074",
     "status": "completed"
    },
    "tags": []
   },
   "outputs": [
    {
     "data": {
      "text/html": [
       "<div>\n",
       "<style scoped>\n",
       "    .dataframe tbody tr th:only-of-type {\n",
       "        vertical-align: middle;\n",
       "    }\n",
       "\n",
       "    .dataframe tbody tr th {\n",
       "        vertical-align: top;\n",
       "    }\n",
       "\n",
       "    .dataframe thead th {\n",
       "        text-align: right;\n",
       "    }\n",
       "</style>\n",
       "<table border=\"1\" class=\"dataframe\">\n",
       "  <thead>\n",
       "    <tr style=\"text-align: right;\">\n",
       "      <th></th>\n",
       "      <th>Month</th>\n",
       "      <th>Rainfall_S_Piero</th>\n",
       "      <th>Rainfall_Mangona</th>\n",
       "      <th>Rainfall_S_Agata</th>\n",
       "      <th>Rainfall_Cavallina</th>\n",
       "      <th>Rainfall_Le_Croci</th>\n",
       "    </tr>\n",
       "  </thead>\n",
       "  <tbody>\n",
       "    <tr>\n",
       "      <th>0</th>\n",
       "      <td>1</td>\n",
       "      <td>3.200384</td>\n",
       "      <td>4.638004</td>\n",
       "      <td>3.177351</td>\n",
       "      <td>3.612668</td>\n",
       "      <td>4.254127</td>\n",
       "    </tr>\n",
       "    <tr>\n",
       "      <th>1</th>\n",
       "      <td>2</td>\n",
       "      <td>2.679158</td>\n",
       "      <td>3.578526</td>\n",
       "      <td>2.832421</td>\n",
       "      <td>2.949474</td>\n",
       "      <td>3.670737</td>\n",
       "    </tr>\n",
       "    <tr>\n",
       "      <th>2</th>\n",
       "      <td>3</td>\n",
       "      <td>2.137428</td>\n",
       "      <td>2.924376</td>\n",
       "      <td>2.381190</td>\n",
       "      <td>2.514012</td>\n",
       "      <td>2.829175</td>\n",
       "    </tr>\n",
       "  </tbody>\n",
       "</table>\n",
       "</div>"
      ],
      "text/plain": [
       "   Month  Rainfall_S_Piero  Rainfall_Mangona  Rainfall_S_Agata  \\\n",
       "0      1          3.200384          4.638004          3.177351   \n",
       "1      2          2.679158          3.578526          2.832421   \n",
       "2      3          2.137428          2.924376          2.381190   \n",
       "\n",
       "   Rainfall_Cavallina  Rainfall_Le_Croci  \n",
       "0            3.612668           4.254127  \n",
       "1            2.949474           3.670737  \n",
       "2            2.514012           2.829175  "
      ]
     },
     "execution_count": 14,
     "metadata": {},
     "output_type": "execute_result"
    }
   ],
   "source": [
    "df_rain = df.groupby(['Month'])[['Rainfall_S_Piero','Rainfall_Mangona','Rainfall_S_Agata','Rainfall_Cavallina','Rainfall_Le_Croci']].mean().reset_index()\n",
    "df_rain.head(3)"
   ]
  },
  {
   "cell_type": "code",
   "execution_count": 15,
   "id": "db56c4ab",
   "metadata": {
    "execution": {
     "iopub.execute_input": "2022-03-12T09:36:50.762461Z",
     "iopub.status.busy": "2022-03-12T09:36:50.752930Z",
     "iopub.status.idle": "2022-03-12T09:36:51.085488Z",
     "shell.execute_reply": "2022-03-12T09:36:51.085982Z",
     "shell.execute_reply.started": "2022-03-12T09:35:36.870288Z"
    },
    "papermill": {
     "duration": 0.398223,
     "end_time": "2022-03-12T09:36:51.086183",
     "exception": false,
     "start_time": "2022-03-12T09:36:50.687960",
     "status": "completed"
    },
    "tags": []
   },
   "outputs": [
    {
     "data": {
      "text/plain": [
       "<matplotlib.legend.Legend at 0x7f47b77c2750>"
      ]
     },
     "execution_count": 15,
     "metadata": {},
     "output_type": "execute_result"
    },
    {
     "data": {
      "image/png": "[encoded data removed]",
      "text/plain": [
       "<Figure size 432x288 with 1 Axes>"
      ]
     },
     "metadata": {},
     "output_type": "display_data"
    }
   ],
   "source": [
    "# plotting the rain pattern over the months\n",
    "plt.plot('Month', 'Rainfall_S_Piero', data = df_rain, color='blue' )\n",
    "plt.plot('Month', 'Rainfall_Mangona', data = df_rain, color='orange' )\n",
    "plt.plot('Month', 'Rainfall_S_Agata', data = df_rain, color='yellow' )\n",
    "plt.plot('Month', 'Rainfall_Cavallina', data = df_rain, color='olive' )\n",
    "plt.plot('Month', 'Rainfall_Le_Croci', data = df_rain, color='red' )\n",
    "plt.legend()\n"
   ]
  },
  {
   "cell_type": "markdown",
   "id": "81aa25cc",
   "metadata": {
    "papermill": {
     "duration": 0.046578,
     "end_time": "2022-03-12T09:36:51.179904",
     "exception": false,
     "start_time": "2022-03-12T09:36:51.133326",
     "status": "completed"
    },
    "tags": []
   },
   "source": [
    "# Preparing the data for modeling"
   ]
  },
  {
   "cell_type": "code",
   "execution_count": 16,
   "id": "e825d641",
   "metadata": {
    "execution": {
     "iopub.execute_input": "2022-03-12T09:36:51.276129Z",
     "iopub.status.busy": "2022-03-12T09:36:51.275461Z",
     "iopub.status.idle": "2022-03-12T09:36:51.297199Z",
     "shell.execute_reply": "2022-03-12T09:36:51.297951Z",
     "shell.execute_reply.started": "2022-03-12T09:35:37.237865Z"
    },
    "papermill": {
     "duration": 0.071531,
     "end_time": "2022-03-12T09:36:51.298161",
     "exception": false,
     "start_time": "2022-03-12T09:36:51.226630",
     "status": "completed"
    },
    "tags": []
   },
   "outputs": [
    {
     "data": {
      "text/html": [
       "<div>\n",
       "<style scoped>\n",
       "    .dataframe tbody tr th:only-of-type {\n",
       "        vertical-align: middle;\n",
       "    }\n",
       "\n",
       "    .dataframe tbody tr th {\n",
       "        vertical-align: top;\n",
       "    }\n",
       "\n",
       "    .dataframe thead th {\n",
       "        text-align: right;\n",
       "    }\n",
       "</style>\n",
       "<table border=\"1\" class=\"dataframe\">\n",
       "  <thead>\n",
       "    <tr style=\"text-align: right;\">\n",
       "      <th></th>\n",
       "      <th>Date</th>\n",
       "      <th>Rainfall_S_Piero</th>\n",
       "      <th>Rainfall_Mangona</th>\n",
       "      <th>Rainfall_S_Agata</th>\n",
       "      <th>Rainfall_Cavallina</th>\n",
       "      <th>Rainfall_Le_Croci</th>\n",
       "      <th>Temperature_Le_Croci</th>\n",
       "      <th>Lake_Level</th>\n",
       "      <th>Flow_Rate</th>\n",
       "      <th>Year</th>\n",
       "      <th>Month</th>\n",
       "      <th>Rainfall_net</th>\n",
       "      <th>Rainfall_mean</th>\n",
       "    </tr>\n",
       "  </thead>\n",
       "  <tbody>\n",
       "    <tr>\n",
       "      <th>0</th>\n",
       "      <td>2002-03-06</td>\n",
       "      <td>NaN</td>\n",
       "      <td>NaN</td>\n",
       "      <td>NaN</td>\n",
       "      <td>NaN</td>\n",
       "      <td>NaN</td>\n",
       "      <td>NaN</td>\n",
       "      <td>249.43</td>\n",
       "      <td>0.31</td>\n",
       "      <td>2002</td>\n",
       "      <td>3</td>\n",
       "      <td>0.0</td>\n",
       "      <td>NaN</td>\n",
       "    </tr>\n",
       "    <tr>\n",
       "      <th>1</th>\n",
       "      <td>2002-04-06</td>\n",
       "      <td>NaN</td>\n",
       "      <td>NaN</td>\n",
       "      <td>NaN</td>\n",
       "      <td>NaN</td>\n",
       "      <td>NaN</td>\n",
       "      <td>NaN</td>\n",
       "      <td>249.43</td>\n",
       "      <td>0.31</td>\n",
       "      <td>2002</td>\n",
       "      <td>4</td>\n",
       "      <td>0.0</td>\n",
       "      <td>NaN</td>\n",
       "    </tr>\n",
       "    <tr>\n",
       "      <th>2</th>\n",
       "      <td>2002-05-06</td>\n",
       "      <td>NaN</td>\n",
       "      <td>NaN</td>\n",
       "      <td>NaN</td>\n",
       "      <td>NaN</td>\n",
       "      <td>NaN</td>\n",
       "      <td>NaN</td>\n",
       "      <td>249.43</td>\n",
       "      <td>0.31</td>\n",
       "      <td>2002</td>\n",
       "      <td>5</td>\n",
       "      <td>0.0</td>\n",
       "      <td>NaN</td>\n",
       "    </tr>\n",
       "    <tr>\n",
       "      <th>3</th>\n",
       "      <td>2002-06-06</td>\n",
       "      <td>NaN</td>\n",
       "      <td>NaN</td>\n",
       "      <td>NaN</td>\n",
       "      <td>NaN</td>\n",
       "      <td>NaN</td>\n",
       "      <td>NaN</td>\n",
       "      <td>249.43</td>\n",
       "      <td>0.31</td>\n",
       "      <td>2002</td>\n",
       "      <td>6</td>\n",
       "      <td>0.0</td>\n",
       "      <td>NaN</td>\n",
       "    </tr>\n",
       "    <tr>\n",
       "      <th>4</th>\n",
       "      <td>2002-07-06</td>\n",
       "      <td>NaN</td>\n",
       "      <td>NaN</td>\n",
       "      <td>NaN</td>\n",
       "      <td>NaN</td>\n",
       "      <td>NaN</td>\n",
       "      <td>NaN</td>\n",
       "      <td>249.44</td>\n",
       "      <td>0.31</td>\n",
       "      <td>2002</td>\n",
       "      <td>7</td>\n",
       "      <td>0.0</td>\n",
       "      <td>NaN</td>\n",
       "    </tr>\n",
       "  </tbody>\n",
       "</table>\n",
       "</div>"
      ],
      "text/plain": [
       "        Date  Rainfall_S_Piero  Rainfall_Mangona  Rainfall_S_Agata  \\\n",
       "0 2002-03-06               NaN               NaN               NaN   \n",
       "1 2002-04-06               NaN               NaN               NaN   \n",
       "2 2002-05-06               NaN               NaN               NaN   \n",
       "3 2002-06-06               NaN               NaN               NaN   \n",
       "4 2002-07-06               NaN               NaN               NaN   \n",
       "\n",
       "   Rainfall_Cavallina  Rainfall_Le_Croci  Temperature_Le_Croci  Lake_Level  \\\n",
       "0                 NaN                NaN                   NaN      249.43   \n",
       "1                 NaN                NaN                   NaN      249.43   \n",
       "2                 NaN                NaN                   NaN      249.43   \n",
       "3                 NaN                NaN                   NaN      249.43   \n",
       "4                 NaN                NaN                   NaN      249.44   \n",
       "\n",
       "   Flow_Rate  Year  Month  Rainfall_net  Rainfall_mean  \n",
       "0       0.31  2002      3           0.0            NaN  \n",
       "1       0.31  2002      4           0.0            NaN  \n",
       "2       0.31  2002      5           0.0            NaN  \n",
       "3       0.31  2002      6           0.0            NaN  \n",
       "4       0.31  2002      7           0.0            NaN  "
      ]
     },
     "execution_count": 16,
     "metadata": {},
     "output_type": "execute_result"
    }
   ],
   "source": [
    "df['Rainfall_net']=df[['Rainfall_S_Piero','Rainfall_Mangona', 'Rainfall_S_Agata','Rainfall_Cavallina','Rainfall_Le_Croci']].sum(axis = 1)\n",
    "df['Rainfall_mean']=df[['Rainfall_S_Piero','Rainfall_Mangona', 'Rainfall_S_Agata','Rainfall_Cavallina','Rainfall_Le_Croci']].mean(axis = 1)\n",
    "df.head()"
   ]
  },
  {
   "cell_type": "markdown",
   "id": "b2e55962",
   "metadata": {
    "papermill": {
     "duration": 0.047753,
     "end_time": "2022-03-12T09:36:51.393041",
     "exception": false,
     "start_time": "2022-03-12T09:36:51.345288",
     "status": "completed"
    },
    "tags": []
   },
   "source": [
    "# Linear Regression for Modeling\n"
   ]
  },
  {
   "cell_type": "code",
   "execution_count": 17,
   "id": "72fe35b9",
   "metadata": {
    "execution": {
     "iopub.execute_input": "2022-03-12T09:36:51.495723Z",
     "iopub.status.busy": "2022-03-12T09:36:51.495078Z",
     "iopub.status.idle": "2022-03-12T09:36:51.819993Z",
     "shell.execute_reply": "2022-03-12T09:36:51.820482Z",
     "shell.execute_reply.started": "2022-03-12T09:35:37.267564Z"
    },
    "papermill": {
     "duration": 0.378534,
     "end_time": "2022-03-12T09:36:51.820679",
     "exception": false,
     "start_time": "2022-03-12T09:36:51.442145",
     "status": "completed"
    },
    "tags": []
   },
   "outputs": [],
   "source": [
    "import sklearn\n",
    "from sklearn import datasets\n",
    "from sklearn.model_selection import train_test_split\n",
    "from sklearn.linear_model import LinearRegression\n",
    "from sklearn.metrics import r2_score\n",
    "\n"
   ]
  },
  {
   "cell_type": "code",
   "execution_count": 18,
   "id": "34dd1c82",
   "metadata": {
    "execution": {
     "iopub.execute_input": "2022-03-12T09:36:51.922298Z",
     "iopub.status.busy": "2022-03-12T09:36:51.921503Z",
     "iopub.status.idle": "2022-03-12T09:36:51.930012Z",
     "shell.execute_reply": "2022-03-12T09:36:51.930618Z",
     "shell.execute_reply.started": "2022-03-12T09:35:37.379239Z"
    },
    "papermill": {
     "duration": 0.063105,
     "end_time": "2022-03-12T09:36:51.930810",
     "exception": false,
     "start_time": "2022-03-12T09:36:51.867705",
     "status": "completed"
    },
    "tags": []
   },
   "outputs": [],
   "source": [
    "\n",
    "train = df[df['Year'].isin([2017,2018,2019,2020])]\n",
    "test = df[df['Year'].isin([2017])]\n",
    "\n",
    "x_train = train[[\"Year\",\"Month\",\"Flow_Rate\",\"Rainfall_mean\",\"Rainfall_net\"]]\n",
    "y_train = train[[\"Lake_Level\"]]\n",
    "\n",
    "x_test = test[[\"Year\",\"Month\",\"Flow_Rate\",\"Rainfall_mean\", \"Rainfall_net\"]]\n",
    "y_test = test[[\"Lake_Level\"]]"
   ]
  },
  {
   "cell_type": "code",
   "execution_count": 19,
   "id": "d9e69f1f",
   "metadata": {
    "execution": {
     "iopub.execute_input": "2022-03-12T09:36:52.032672Z",
     "iopub.status.busy": "2022-03-12T09:36:52.032024Z",
     "iopub.status.idle": "2022-03-12T09:36:52.033341Z",
     "shell.execute_reply": "2022-03-12T09:36:52.033927Z",
     "shell.execute_reply.started": "2022-03-12T09:35:37.395258Z"
    },
    "papermill": {
     "duration": 0.054435,
     "end_time": "2022-03-12T09:36:52.034107",
     "exception": false,
     "start_time": "2022-03-12T09:36:51.979672",
     "status": "completed"
    },
    "tags": []
   },
   "outputs": [],
   "source": [
    "lnrg= LinearRegression(normalize=True)"
   ]
  },
  {
   "cell_type": "code",
   "execution_count": 20,
   "id": "222bf0e1",
   "metadata": {
    "execution": {
     "iopub.execute_input": "2022-03-12T09:36:52.136735Z",
     "iopub.status.busy": "2022-03-12T09:36:52.135560Z",
     "iopub.status.idle": "2022-03-12T09:36:52.139144Z",
     "shell.execute_reply": "2022-03-12T09:36:52.139662Z",
     "shell.execute_reply.started": "2022-03-12T09:35:37.404836Z"
    },
    "papermill": {
     "duration": 0.058103,
     "end_time": "2022-03-12T09:36:52.139871",
     "exception": false,
     "start_time": "2022-03-12T09:36:52.081768",
     "status": "completed"
    },
    "tags": []
   },
   "outputs": [
    {
     "data": {
      "text/plain": [
       "(1277, 5)"
      ]
     },
     "execution_count": 20,
     "metadata": {},
     "output_type": "execute_result"
    }
   ],
   "source": [
    "x_train.shape"
   ]
  },
  {
   "cell_type": "code",
   "execution_count": 21,
   "id": "a3760857",
   "metadata": {
    "execution": {
     "iopub.execute_input": "2022-03-12T09:36:52.242717Z",
     "iopub.status.busy": "2022-03-12T09:36:52.241780Z",
     "iopub.status.idle": "2022-03-12T09:36:52.245200Z",
     "shell.execute_reply": "2022-03-12T09:36:52.245709Z",
     "shell.execute_reply.started": "2022-03-12T09:35:37.423111Z"
    },
    "papermill": {
     "duration": 0.057051,
     "end_time": "2022-03-12T09:36:52.245910",
     "exception": false,
     "start_time": "2022-03-12T09:36:52.188859",
     "status": "completed"
    },
    "tags": []
   },
   "outputs": [
    {
     "data": {
      "text/plain": [
       "(365, 5)"
      ]
     },
     "execution_count": 21,
     "metadata": {},
     "output_type": "execute_result"
    }
   ],
   "source": [
    "x_test.shape"
   ]
  },
  {
   "cell_type": "code",
   "execution_count": 22,
   "id": "e053ee58",
   "metadata": {
    "execution": {
     "iopub.execute_input": "2022-03-12T09:36:52.346343Z",
     "iopub.status.busy": "2022-03-12T09:36:52.345434Z",
     "iopub.status.idle": "2022-03-12T09:36:52.374252Z",
     "shell.execute_reply": "2022-03-12T09:36:52.374949Z",
     "shell.execute_reply.started": "2022-03-12T09:35:37.439556Z"
    },
    "papermill": {
     "duration": 0.080757,
     "end_time": "2022-03-12T09:36:52.375163",
     "exception": false,
     "start_time": "2022-03-12T09:36:52.294406",
     "status": "completed"
    },
    "tags": []
   },
   "outputs": [
    {
     "name": "stderr",
     "output_type": "stream",
     "text": [
      "/opt/conda/lib/python3.7/site-packages/sklearn/linear_model/_base.py:145: FutureWarning: 'normalize' was deprecated in version 1.0 and will be removed in 1.2.\n",
      "If you wish to scale the data, use Pipeline with a StandardScaler in a preprocessing stage. To reproduce the previous behavior:\n",
      "\n",
      "from sklearn.pipeline import make_pipeline\n",
      "\n",
      "model = make_pipeline(StandardScaler(with_mean=False), LinearRegression())\n",
      "\n",
      "If you wish to pass a sample_weight parameter, you need to pass it as a fit parameter to each step of the pipeline as follows:\n",
      "\n",
      "kwargs = {s[0] + '__sample_weight': sample_weight for s in model.steps}\n",
      "model.fit(X, y, **kwargs)\n",
      "\n",
      "\n",
      "  FutureWarning,\n"
     ]
    },
    {
     "data": {
      "text/plain": [
       "LinearRegression(normalize=True)"
      ]
     },
     "execution_count": 22,
     "metadata": {},
     "output_type": "execute_result"
    }
   ],
   "source": [
    "lnrg.fit(x_train,y_train)"
   ]
  },
  {
   "cell_type": "code",
   "execution_count": 23,
   "id": "3dea9625",
   "metadata": {
    "execution": {
     "iopub.execute_input": "2022-03-12T09:36:52.476840Z",
     "iopub.status.busy": "2022-03-12T09:36:52.476177Z",
     "iopub.status.idle": "2022-03-12T09:36:52.482690Z",
     "shell.execute_reply": "2022-03-12T09:36:52.482120Z",
     "shell.execute_reply.started": "2022-03-12T09:35:37.461030Z"
    },
    "papermill": {
     "duration": 0.058254,
     "end_time": "2022-03-12T09:36:52.482884",
     "exception": false,
     "start_time": "2022-03-12T09:36:52.424630",
     "status": "completed"
    },
    "tags": []
   },
   "outputs": [],
   "source": [
    "y_pred= lnrg.predict(x_test)"
   ]
  },
  {
   "cell_type": "code",
   "execution_count": 24,
   "id": "95bcd715",
   "metadata": {
    "execution": {
     "iopub.execute_input": "2022-03-12T09:36:52.583766Z",
     "iopub.status.busy": "2022-03-12T09:36:52.583119Z",
     "iopub.status.idle": "2022-03-12T09:36:52.589757Z",
     "shell.execute_reply": "2022-03-12T09:36:52.590374Z",
     "shell.execute_reply.started": "2022-03-12T09:35:37.470194Z"
    },
    "papermill": {
     "duration": 0.058665,
     "end_time": "2022-03-12T09:36:52.590540",
     "exception": false,
     "start_time": "2022-03-12T09:36:52.531875",
     "status": "completed"
    },
    "tags": []
   },
   "outputs": [
    {
     "data": {
      "text/plain": [
       "0.17031055077444268"
      ]
     },
     "execution_count": 24,
     "metadata": {},
     "output_type": "execute_result"
    }
   ],
   "source": [
    "rs = r2_score(y_test, y_pred)\n",
    "rs"
   ]
  },
  {
   "cell_type": "markdown",
   "id": "a015ddc4",
   "metadata": {
    "papermill": {
     "duration": 0.050045,
     "end_time": "2022-03-12T09:36:52.690124",
     "exception": false,
     "start_time": "2022-03-12T09:36:52.640079",
     "status": "completed"
    },
    "tags": []
   },
   "source": [
    "# Random forest for Modeling\n"
   ]
  },
  {
   "cell_type": "code",
   "execution_count": 25,
   "id": "a61e0bc1",
   "metadata": {
    "execution": {
     "iopub.execute_input": "2022-03-12T09:36:52.797758Z",
     "iopub.status.busy": "2022-03-12T09:36:52.797047Z",
     "iopub.status.idle": "2022-03-12T09:36:53.272986Z",
     "shell.execute_reply": "2022-03-12T09:36:53.272322Z",
     "shell.execute_reply.started": "2022-03-12T09:35:37.484352Z"
    },
    "papermill": {
     "duration": 0.532592,
     "end_time": "2022-03-12T09:36:53.273133",
     "exception": false,
     "start_time": "2022-03-12T09:36:52.740541",
     "status": "completed"
    },
    "tags": []
   },
   "outputs": [
    {
     "name": "stderr",
     "output_type": "stream",
     "text": [
      "/opt/conda/lib/python3.7/site-packages/ipykernel_launcher.py:3: DataConversionWarning: A column-vector y was passed when a 1d array was expected. Please change the shape of y to (n_samples,), for example using ravel().\n",
      "  This is separate from the ipykernel package so we can avoid doing imports until\n"
     ]
    }
   ],
   "source": [
    "from sklearn.ensemble import RandomForestRegressor\n",
    "regr = RandomForestRegressor(max_depth=100, random_state=0)\n",
    "regr.fit(x_train, y_train)\n",
    "y_pred = regr.predict(x_test)"
   ]
  },
  {
   "cell_type": "code",
   "execution_count": 26,
   "id": "0fe207b3",
   "metadata": {
    "execution": {
     "iopub.execute_input": "2022-03-12T09:36:53.379496Z",
     "iopub.status.busy": "2022-03-12T09:36:53.378827Z",
     "iopub.status.idle": "2022-03-12T09:36:53.385111Z",
     "shell.execute_reply": "2022-03-12T09:36:53.385764Z",
     "shell.execute_reply.started": "2022-03-12T09:35:37.865219Z"
    },
    "papermill": {
     "duration": 0.061082,
     "end_time": "2022-03-12T09:36:53.385962",
     "exception": false,
     "start_time": "2022-03-12T09:36:53.324880",
     "status": "completed"
    },
    "tags": []
   },
   "outputs": [
    {
     "data": {
      "text/plain": [
       "0.8467178464668017"
      ]
     },
     "execution_count": 26,
     "metadata": {},
     "output_type": "execute_result"
    }
   ],
   "source": [
    "rs = r2_score(y_test, y_pred)\n",
    "rs"
   ]
  }
 ],
 "metadata": {
  "kernelspec": {
   "display_name": "Python 3",
   "language": "python",
   "name": "python3"
  },
  "language_info": {
   "codemirror_mode": {
    "name": "ipython",
    "version": 3
   },
   "file_extension": ".py",
   "mimetype": "text/x-python",
   "name": "python",
   "nbconvert_exporter": "python",
   "pygments_lexer": "ipython3",
   "version": "3.7.12"
  },
  "papermill": {
   "default_parameters": {},
   "duration": 21.329852,
   "end_time": "2022-03-12T09:36:54.249104",
   "environment_variables": {},
   "exception": null,
   "input_path": "__notebook__.ipynb",
   "output_path": "__notebook__.ipynb",
   "parameters": {},
   "start_time": "2022-03-12T09:36:32.919252",
   "version": "2.3.3"
  }
 },
 "nbformat": 4,
 "nbformat_minor": 5
}
